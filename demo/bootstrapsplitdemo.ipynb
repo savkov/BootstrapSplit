{
 "cells": [
  {
   "cell_type": "markdown",
   "metadata": {},
   "source": [
    "### Bootstrapping"
   ]
  },
  {
   "cell_type": "markdown",
   "metadata": {},
   "source": [
    "#### What is bootstrapping?\n",
    "> Bootstrapping is the practice of estimating properties of an estimator (such as its variance) by measuring those properties when sampling from an approximating distribution. One standard choice for an approximating distribution is the empirical distribution function of the observed data. In the case where a set of observations can be assumed to be from an independent and identically distributed population, this can be implemented by constructing a number of resamples with replacement, of the observed dataset (and of equal size to the observed dataset). -- [Wikipedia](http://en.wikipedia.org/wiki/Bootstrapping_%28statistics%29 \"Bootstrapping (Statistics)\")"
   ]
  },
  {
   "cell_type": "markdown",
   "metadata": {},
   "source": [
    "#### What is it used for?\n",
    "> Bootstrapping allows assigning measures of accuracy (defined in terms of bias, variance, confidence intervals, prediction error or some other such measure) to sample estimates. -- [Effron & Tibshirani, (1993)](https://books.google.co.uk/books/about/An_Introduction_to_the_Bootstrap.html?id=gLlpIUxRntoC&hl=en \"An Introduction to the Bootstrap\")"
   ]
  },
  {
   "cell_type": "code",
   "execution_count": 2,
   "metadata": {
    "collapsed": false
   },
   "outputs": [
    {
     "data": {
      "text/plain": [
       "3"
      ]
     },
     "execution_count": 2,
     "metadata": {},
     "output_type": "execute_result"
    }
   ],
   "source": [
    "from bootstrapsplit import BootstrapSplit\n",
    "bs = BootstrapSplit(9, random_state=0)\n",
    "len(bs)"
   ]
  },
  {
   "cell_type": "code",
   "execution_count": 3,
   "metadata": {
    "collapsed": false
   },
   "outputs": [
    {
     "name": "stdout",
     "output_type": "stream",
     "text": [
      "BootstrapSplit(9, n_iter=3, train_size=5, test_size=4, random_state=0)\n",
      "('TRAIN:', array([1, 8, 7, 7, 8]), 'TEST:', array([0, 3, 0, 5]))\n",
      "('TRAIN:', array([5, 4, 2, 4, 2]), 'TEST:', array([6, 7, 1, 0]))\n",
      "('TRAIN:', array([4, 7, 0, 1, 1]), 'TEST:', array([5, 3, 6, 5]))\n"
     ]
    }
   ],
   "source": [
    "print(bs)\n",
    "BootstrapSplit(9, n_iter=3, train_size=5, test_size=4, random_state=0)\n",
    "for train_index, test_index in bs:\n",
    "    print(\"TRAIN:\", train_index, \"TEST:\", test_index)"
   ]
  },
  {
   "cell_type": "markdown",
   "metadata": {},
   "source": [
    "### Bootstrap of Weighted Samples"
   ]
  },
  {
   "cell_type": "markdown",
   "metadata": {},
   "source": [
    "#### What is bootstrapping of weighted samples?\n",
    "\n",
    "Bootstrapping of weighted samples performs bootstrapping in distributions where not all samples are of equal weight, and the size of the subsample is not measured by the number of samples in it, but by their aggregate weight. For example, sentences are made up of different number of tokens, giving them different weight in terms of token quantity.\n",
    "\n",
    "The `BootstrapSplitWeighted` class re-implements the `BootstrapSplit` accounting for individual sample weight. In contrast to `BootstrapSplitWeighted` though it only sets a maximum weight for each sample split, which means that the returned sample is of the closest lower weight given a random resampling with replacement. This introduces a small degree of inaccuracy that needs to be taken in mind when working with very small samples."
   ]
  },
  {
   "cell_type": "code",
   "execution_count": 10,
   "metadata": {
    "collapsed": false
   },
   "outputs": [
    {
     "name": "stdout",
     "output_type": "stream",
     "text": [
      "BootstrapSplitWeighted(20(106), n_iter=3, train_size=85, test_size=21, random_state=None)\n",
      "TRAIN: [12  8  4  0 15 15 11  2  4  4 19 13  0 16 12 15] (80) TEST: [5 3] (11)\n",
      "TRAIN: [ 3  2  4  8  5 12  8  2  5  4  5  3  2] (78) TEST: [16  1 16  1 15 15] (16)\n",
      "TRAIN: [11 13 11 17  2 16  2 13  5  6 18 14 15  7] (82) TEST: [ 0  0 19] (19)\n"
     ]
    }
   ],
   "source": [
    "import numpy as np\n",
    "from bootstrapsplit import BootstrapSplitWeighted\n",
    "\n",
    "x = np.random.randint(low=1, high=10, size=20)\n",
    "bo = BootstrapSplitWeighted(x, n_iter=3, train_size=0.8, test_size=0.2)\n",
    "print bo\n",
    "for traini, testi in bo:\n",
    "    print \"TRAIN:\", traini, \"(%s)\" % np.sum(x[traini]), \"TEST:\", testi, \"(%s)\" % np.sum(x[testi])"
   ]
  },
  {
   "cell_type": "markdown",
   "metadata": {},
   "source": [
    "If the weight of a sample split is smaller than that of the first token in the resampled sequence, an empty list is returned."
   ]
  },
  {
   "cell_type": "code",
   "execution_count": 9,
   "metadata": {
    "collapsed": false
   },
   "outputs": [
    {
     "name": "stdout",
     "output_type": "stream",
     "text": [
      "BootstrapSplitWeighted(3(15), n_iter=3, train_size=12, test_size=3, random_state=None)\n",
      "TRAIN: [1] (8) TEST: [] (0)\n",
      "TRAIN: [] (0) TEST: [] (0)\n",
      "TRAIN: [] (0) TEST: [] (0)\n"
     ]
    }
   ],
   "source": [
    "x = np.random.randint(low=1, high=10, size=3)\n",
    "bo = BootstrapSplitWeighted(x, n_iter=3, train_size=0.8, test_size=0.2)\n",
    "print bo\n",
    "for traini, testi in bo:\n",
    "    print \"TRAIN:\", traini, \"(%s)\" % np.sum(x[traini]), \"TEST:\", testi, \"(%s)\" % np.sum(x[testi])"
   ]
  }
 ],
 "metadata": {
  "kernelspec": {
   "display_name": "Python 2",
   "language": "python",
   "name": "python2"
  },
  "language_info": {
   "codemirror_mode": {
    "name": "ipython",
    "version": 2
   },
   "file_extension": ".py",
   "mimetype": "text/x-python",
   "name": "python",
   "nbconvert_exporter": "python",
   "pygments_lexer": "ipython2",
   "version": "2.7.6"
  }
 },
 "nbformat": 4,
 "nbformat_minor": 0
}
